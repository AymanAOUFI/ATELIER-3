{
  "nbformat": 4,
  "nbformat_minor": 0,
  "metadata": {
    "colab": {
      "provenance": []
    },
    "kernelspec": {
      "name": "python3",
      "display_name": "Python 3"
    },
    "language_info": {
      "name": "python"
    }
  },
  "cells": [
    {
      "cell_type": "code",
      "execution_count": 2,
      "metadata": {
        "colab": {
          "base_uri": "https://localhost:8080/"
        },
        "id": "ZL9TSXDWxMFz",
        "outputId": "86f45ad7-dde6-48c5-b03e-bd93867ecf6c"
      },
      "outputs": [
        {
          "output_type": "stream",
          "name": "stdout",
          "text": [
            "x= 0 y=0\n",
            "x= 5 y=9\n",
            "x= 11 y=14\n"
          ]
        }
      ],
      "source": [
        "class Vecteur2D:\n",
        "    # constructeur \n",
        "    def __init__(self, x=0,y=0):\n",
        "        self.x = x\n",
        "        self.y = y\n",
        "    # show methode\n",
        "    def show(self):\n",
        "        return \"x= \"+str(self.x)+\" y=\"+str(self.y)\n",
        "    # ajouter \n",
        "    def __add__(self,other):\n",
        "        ax= self.x+other.x\n",
        "        ay= self.y+other.y\n",
        "        return Vecteur2D(ax,ay)\n",
        "# créer des vecteurs\n",
        "v1 = Vecteur2D()\n",
        "v2 =Vecteur2D(5,9)\n",
        "v3 =Vecteur2D(6,5)\n",
        "# tester la méthode show()\n",
        "print(v1.show())\n",
        "print(v2.show())\n",
        "# tester l'operation + avec 2 vectors\n",
        "V= v2 + v3\n",
        "print(V.show())      \n"
      ]
    },
    {
      "cell_type": "code",
      "source": [
        "# classe rectangle\n",
        "class Rectangle:\n",
        "    nom=\"rectangle\"\n",
        "    # constructeur\n",
        "    def __init__(self, lo=0 ,la=0):\n",
        "        self.longueur= lo  \n",
        "        self.largeur= la  \n",
        "    def show(self):\n",
        "    #  afficher les attributs de classe\n",
        "        return \"nom: \"+self.nom +\" longueur =\" +str(self.longueur) + \" largeur = \"+str(self.largeur)\n",
        "    # calculer la surface\n",
        "    def surface(self):\n",
        "        return \"surface : \"+str(self.largeur * self.longueur)\n",
        " # classe Carré\n",
        "class Carre(Rectangle):\n",
        "  nom=\"Carre\"\n",
        "  def __init__(self, lo=0):\n",
        "    super().__init__(lo=lo, la=lo)\n",
        "\n",
        "r1= Rectangle(5,6)\n",
        "c1= Carre(8)\n",
        "# tester avvec le rectangle\n",
        "print(r1.show())\n",
        "print(r1.surface())\n",
        "# tester aver le carre\n",
        "print(c1.show())\n",
        "print(c1.surface())       "
      ],
      "metadata": {
        "colab": {
          "base_uri": "https://localhost:8080/"
        },
        "id": "O5IDpwZqxjB6",
        "outputId": "f3cc3d99-6b0c-4d31-a491-1b04a8a0227a"
      },
      "execution_count": 9,
      "outputs": [
        {
          "output_type": "stream",
          "name": "stdout",
          "text": [
            "nom: rectangle longueur =5 largeur = 6\n",
            "surface : 30\n",
            "nom: Carre longueur =8 largeur = 8\n",
            "surface : 64\n"
          ]
        }
      ]
    },
    {
      "cell_type": "code",
      "source": [
        "#class Point\n",
        "class Point:\n",
        "    def __init__(self,x=0.0,y=0.0):\n",
        "        self.x = x\n",
        "        self.y = y\n",
        "    def show(self):\n",
        "        return \"(\"+str(self.x)+\",\"+str(self.y)+\")\"\n",
        "# classe segment\n",
        "class Segment():\n",
        "    # constructeur qui prend 2 objects Point comme params\n",
        "    def __init__(self,org,ext):\n",
        "            self.org = Point(org.x,org.y)\n",
        "            self.ext = Point(ext.x,ext.y)\n",
        "    def show_seg(self):\n",
        "        return \"(org,ext) Segment = [\"+ self.org.show() + \", \"+ self.ext.show() + \"]\"\n",
        "\n",
        "p1 = Point(1,2)\n",
        "p2 = Point(3,4)\n",
        "# tester le Point\n",
        "print(p1.show())\n",
        "# tester le Segment\n",
        "s1= Segment(p1,p2)\n",
        "print(s1.show_seg())"
      ],
      "metadata": {
        "colab": {
          "base_uri": "https://localhost:8080/"
        },
        "id": "N7ciFU1Lxuay",
        "outputId": "92154890-0d6f-4182-a5ce-deee07f75751"
      },
      "execution_count": 12,
      "outputs": [
        {
          "output_type": "stream",
          "name": "stdout",
          "text": [
            "(1,2)\n",
            "(org,ext) Segment = [(1,2), (3,4)]\n"
          ]
        }
      ]
    }
  ]
}